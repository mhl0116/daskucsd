{
 "cells": [
  {
   "cell_type": "markdown",
   "metadata": {},
   "source": [
    "### Set up dask + condor at UCSD"
   ]
  },
  {
   "cell_type": "code",
   "execution_count": 4,
   "metadata": {},
   "outputs": [],
   "source": [
    "import numpy as np\n",
    "import pandas as pd\n",
    "\n",
    "from dask.distributed import Client\n",
    "\n",
    "from condor_utils import make_htcondor_cluster"
   ]
  },
  {
   "cell_type": "code",
   "execution_count": 11,
   "metadata": {},
   "outputs": [
    {
     "data": {
      "application/vnd.jupyter.widget-view+json": {
       "model_id": "230b93deab8e4ab08698891bd2beea05",
       "version_major": 2,
       "version_minor": 0
      },
      "text/plain": [
       "VBox(children=(HTML(value='<h2>UCSDHTCondorCluster</h2>'), HBox(children=(HTML(value='\\n<div>\\n  <style scoped…"
      ]
     },
     "metadata": {},
     "output_type": "display_data"
    }
   ],
   "source": [
    "cluster = make_htcondor_cluster(local=False, dashboard_address=13347)\n",
    "cluster"
   ]
  },
  {
   "cell_type": "code",
   "execution_count": 6,
   "metadata": {},
   "outputs": [],
   "source": [
    "cluster.scale(101)"
   ]
  },
  {
   "cell_type": "code",
   "execution_count": 7,
   "metadata": {},
   "outputs": [
    {
     "data": {
      "text/html": [
       "<table style=\"border: 2px solid white;\">\n",
       "<tr>\n",
       "<td style=\"vertical-align: top; border: 0px solid white\">\n",
       "<h3 style=\"text-align: left;\">Client</h3>\n",
       "<ul style=\"text-align: left; list-style: none; margin: 0; padding: 0;\">\n",
       "  <li><b>Scheduler: </b>tcp://169.228.130.37:24762</li>\n",
       "  <li><b>Dashboard: </b><a href='http://169.228.130.37:13346/status' target='_blank'>http://169.228.130.37:13346/status</a>\n",
       "</ul>\n",
       "</td>\n",
       "<td style=\"vertical-align: top; border: 0px solid white\">\n",
       "<h3 style=\"text-align: left;\">Cluster</h3>\n",
       "<ul style=\"text-align: left; list-style:none; margin: 0; padding: 0;\">\n",
       "  <li><b>Workers: </b>0</li>\n",
       "  <li><b>Cores: </b>0</li>\n",
       "  <li><b>Memory: </b>0 B</li>\n",
       "</ul>\n",
       "</td>\n",
       "</tr>\n",
       "</table>"
      ],
      "text/plain": [
       "<Client: 'tcp://169.228.130.37:24762' processes=0 threads=0, memory=0 B>"
      ]
     },
     "execution_count": 7,
     "metadata": {},
     "output_type": "execute_result"
    }
   ],
   "source": [
    "client = Client(cluster)\n",
    "client"
   ]
  },
  {
   "cell_type": "markdown",
   "metadata": {},
   "source": [
    "### set up function to do one scan of one cut"
   ]
  },
  {
   "cell_type": "code",
   "execution_count": 8,
   "metadata": {},
   "outputs": [],
   "source": [
    "#def g(lowCut, highCut, cutIndex, processTag, year, date, postfix, specialCut, doLow, doOneBin):\n",
    "def g(listParams):\n",
    "    import subprocess\n",
    "    script=\"\"\"\n",
    "    source /cvmfs/cms.cern.ch/cmsset_default.sh \n",
    "    cd /cvmfs/cms.cern.ch/slc7_amd64_gcc700/cms/cmssw/CMSSW_10_5_0/ \n",
    "    eval `scramv1 runtime -sh` \n",
    "    cd - \n",
    "\n",
    "    cp /hadoop/cms/store/user/hmei/combineStandalone.tar.gz .\n",
    "    tar -xzf combineStandalone.tar.gz\n",
    "    \n",
    "    # https://root-forum.cern.ch/t/error-in-cling-insertintoautoloadingstate/29347\n",
    "    # Error in cling::AutoloadingVisitor::InsertIntoAutoloadingState\n",
    "    export ROOT_INCLUDE_PATH=/srv/temp/\n",
    "\n",
    "    cd HiggsAnalysis/CombinedLimit/\n",
    "    source ./env_standalone.sh \n",
    "    cd -\n",
    "    \n",
    "    cp /hadoop/cms/store/user/hmei/doScan.tar .\n",
    "    tar -xzf doScan.tar\n",
    "    \n",
    "    python doScan/doAllScans.py --low \"\"\" + str(listParams[0])\n",
    "\n",
    "    script += \"\"\" --high \"\"\" + str(listParams[1])\n",
    "    script += \"\"\" --cutIndex \"\"\" + str(listParams[2])\n",
    "    script += \"\"\" --processTag \"\"\" + listParams[3]\n",
    "    script += \"\"\" --year \"\"\" + listParams[4]\n",
    "    script += \"\"\" --date \"\"\" + listParams[5]\n",
    "    script += \"\"\" --postfix \"\"\" + listParams[6]\n",
    "    script += \"\"\" --specialCut \"\"\" + listParams[7]\n",
    "    \n",
    "    if listParams[8]:\n",
    "        script += \"\"\" --doLow \"\"\"\n",
    "    if listParams[9]:\n",
    "        script += \"\"\" --doOneBin \"\"\"\n",
    "     \n",
    "    print (script)\n",
    "    with open(\"temp.sh\",\"w\") as fh:\n",
    "        fh.write(script)\n",
    "    _ = subprocess.getoutput(\"chmod u+x temp.sh\")\n",
    "    cmd = \"time ./temp.sh\"\n",
    "    subprocess.call(\"./temp.sh\", shell=True)\n",
    "    #return subprocess.getoutput(\"./temp.sh\")\n",
    "    return subprocess.getoutput(\"cat parseout_\" + str(listParams[2]) + \".txt\")"
   ]
  },
  {
   "cell_type": "markdown",
   "metadata": {},
   "source": [
    "### function to parse result"
   ]
  },
  {
   "cell_type": "code",
   "execution_count": 9,
   "metadata": {},
   "outputs": [],
   "source": [
    "def ParseResult(results):\n",
    "    n = 100\n",
    "    matrix = np.zeros((n,4))\n",
    "    for i in range(n):\n",
    "        sig = results[i].split()[1]\n",
    "        nbkg0 = results[i].split()[2]\n",
    "        nbkg1 = results[i].split()[3]\n",
    "        mva = results[i].split()[5]\n",
    "    \n",
    "        matrix[i,:] = [sig, nbkg0, nbkg1, mva]\n",
    "\n",
    "    # sort according to significance\n",
    "    ind = np.argsort( matrix[:,0] )[::-1]\n",
    "    matrix =  matrix[ind]\n",
    "    #print (matrix[matrix[:,1]>10])#, matrix)\n",
    "\n",
    "    # get best entry while making sure the number of backgrounds are bigger than 10\n",
    "    bestCut = matrix[ (matrix[:,1] > 10) & (matrix[:,2] > 10) ][0]\n",
    "\n",
    "    return bestCut"
   ]
  },
  {
   "cell_type": "markdown",
   "metadata": {},
   "source": [
    "### prepare function to gather result"
   ]
  },
  {
   "cell_type": "code",
   "execution_count": 12,
   "metadata": {},
   "outputs": [],
   "source": [
    "def Scan(lowCut, highCut, step, doLow=False):\n",
    "  \n",
    "    from dask.distributed import wait\n",
    "\n",
    "    processTag = \"TTHLeptonicTag\"\n",
    "    year = \"2020\"\n",
    "    date= \"20200328\"\n",
    "    postfix = \"pt_lep_binning_200_in_step\"\n",
    "    specialCut = \"\\\"(global_features[28]*mass > 200)\\\"\"\n",
    "\n",
    "    #lowCut = 0\n",
    "    #highCut = 1\n",
    "    #step = 1\n",
    "    nScan = 100\n",
    "    \n",
    "    inputs = []\n",
    "    for i in range(1, nScan+2):\n",
    "        inputs.append([lowCut, highCut, i, processTag, year, date, postfix+str(step), specialCut, doLow, False])\n",
    "\n",
    "    parameter_oneBin = [lowCut, highCut, nScan+1, processTag, year, date, postfix+str(step), specialCut, doLow, True]\n",
    "\n",
    "    # prepare n cuts within low-high cut\n",
    "    futures = []\n",
    "    for parameters in inputs:\n",
    "        future = client.submit(g, parameters)\n",
    "        futures.append(future)\n",
    "\n",
    "    # try get significance between low/high cut without finner splitting\n",
    "    future_onebin = client.submit(g, parameter_oneBin)\n",
    "    \n",
    "    results = client.gather(futures)\n",
    "    result_1bin = future_onebin.result().split()\n",
    "\n",
    "    bestCut = ParseResult(results)\n",
    "    \n",
    "    final = np.append(bestCut, result_1bin[1])\n",
    "        \n",
    "    # significance with two bins, nbkg in bin1, nbkg in bin2, mva score, significance with one bin\n",
    "    return final"
   ]
  },
  {
   "cell_type": "code",
   "execution_count": null,
   "metadata": {},
   "outputs": [],
   "source": [
    "boundaries = [0.8541606, 0.94937336, 1]"
   ]
  },
  {
   "cell_type": "code",
   "execution_count": 13,
   "metadata": {},
   "outputs": [
    {
     "name": "stdout",
     "output_type": "stream",
     "text": [
      "['0.630718' '10.6903019931' '770.721169762' '0.94937336' '0.145423']\n"
     ]
    }
   ],
   "source": [
    "scanresult1 = Scan(0,1,1)\n",
    "print (scanresult1)"
   ]
  },
  {
   "cell_type": "code",
   "execution_count": 14,
   "metadata": {},
   "outputs": [
    {
     "name": "stdout",
     "output_type": "stream",
     "text": [
      "['0.212181' '21.5344444693' '749.233257875' '0.8541606' '0.0618357']\n"
     ]
    }
   ],
   "source": [
    "# if nbkg0 < 20, then dont change lowCut, only change highCut\n",
    "# if nsig from two bins is smaller than 1.2*nsig from one bin, don't further split\n",
    "scanresult2 = Scan(0,0.94937336,2)\n",
    "print (scanresult2)"
   ]
  },
  {
   "cell_type": "code",
   "execution_count": 15,
   "metadata": {},
   "outputs": [
    {
     "name": "stdout",
     "output_type": "stream",
     "text": [
      "['0.214152' '10.6217865686' '10.8539718541' '0.91408724' '0.209817']\n"
     ]
    }
   ],
   "source": [
    "scanresult3 = Scan(0.8541606, 0.94937336, 3)\n",
    "print (scanresult3)"
   ]
  },
  {
   "cell_type": "code",
   "execution_count": 16,
   "metadata": {},
   "outputs": [
    {
     "name": "stdout",
     "output_type": "stream",
     "text": [
      "['0.553977' '32.241908885' '21.4036622087' '0.7491814' '0.54968']\n"
     ]
    }
   ],
   "source": [
    "scanresult4 = Scan(0,0.8541606,4,True)\n",
    "print (scanresult4)"
   ]
  }
 ],
 "metadata": {
  "kernelspec": {
   "display_name": "Python 3",
   "language": "python",
   "name": "python3"
  },
  "language_info": {
   "codemirror_mode": {
    "name": "ipython",
    "version": 3
   },
   "file_extension": ".py",
   "mimetype": "text/x-python",
   "name": "python",
   "nbconvert_exporter": "python",
   "pygments_lexer": "ipython3",
   "version": "3.8.1"
  }
 },
 "nbformat": 4,
 "nbformat_minor": 2
}
